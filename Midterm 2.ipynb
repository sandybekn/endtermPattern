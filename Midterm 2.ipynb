{
 "cells": [
  {
   "attachments": {
    "front_page.png": {
     "image/png": "[encoded data removed]"
    }
   },
   "cell_type": "markdown",
   "metadata": {},
   "source": [
    "## Midterm 2 - MNIST Classification\n",
    "![front_page.png](attachment:front_page.png)\n",
    "### Preparing environment and dataset:\n",
    "* pip install python-mnist\n",
    "* create folder midterm/data\n",
    "* download from https://drive.google.com/open?id=1AQwyy3xP7rjDWMPkWBW4kKOfpkIyAWt8 - 4 files\n",
    "* extract all files to ./data"
   ]
  },
  {
   "cell_type": "markdown",
   "metadata": {},
   "source": [
    "#### The error of your classifier on test dataset must be better then 12.0% LeCun et al. 1998\n",
    "#### Enter your error at https://goo.gl/forms/JRDKcotcXf5LZM3I3\n",
    "#### Commit your code to github/bitbucket into folder midterm\n"
   ]
  },
  {
   "cell_type": "code",
   "execution_count": 8,
   "metadata": {},
   "outputs": [
    {
     "name": "stdout",
     "output_type": "stream",
     "text": [
      "The amount of train images 60000\n",
      "The amount of test images 60000\n",
      "The label of random image 8 The random image is \n",
      "............................\n",
      "............................\n",
      "............................\n",
      "............................\n",
      "............................\n",
      ".................@@.........\n",
      ".............@@@@@@.........\n",
      "...........@@@@.............\n",
      ".........@@@.....@@.........\n",
      ".......@@@.......@@.........\n",
      ".......@@........@..........\n",
      "......@@@.......@@..........\n",
      ".......@@@......@@..........\n",
      "........@@@@@...@@..........\n",
      "...........@@@@@@...........\n",
      ".............@@@@...........\n",
      "..............@@@...........\n",
      "..............@@@@..........\n",
      "..............@@.@..........\n",
      "..............@@.@@.........\n",
      "..............@..@@.........\n",
      ".............@@..@..........\n",
      ".............@@.@@..........\n",
      ".............@@@@...........\n",
      "..............@@............\n",
      "............................\n",
      "............................\n",
      "............................\n",
      "Images are binary with 28*28 =  784\n"
     ]
    }
   ],
   "source": [
    "from mnist import MNIST\n",
    "import random\n",
    "\n",
    "import numpy as np\n",
    "from keras.utils.np_utils import to_categorical\n",
    "from sklearn.metrics import accuracy_score\n",
    "\n",
    "from keras.models import Sequential\n",
    "from keras.layers import Dense\n",
    "\n",
    "mndata = MNIST('.\\\\data')\n",
    "\n",
    "trimages, trlabels = mndata.load_training()\n",
    "teimages, telabels = mndata.load_testing()\n",
    "index = random.randrange(0, len(trimages))  # choose an index ;-)\n",
    "print('The amount of train images',len(trimages))\n",
    "print('The amount of test images',len(trimages))\n",
    "print('The label of random image',trlabels[index],'The random image is',mndata.display(trimages[index]))\n",
    "print('Images are binary with 28*28 = ',len(trimages[index]))"
   ]
  },
  {
   "cell_type": "code",
   "execution_count": 9,
   "metadata": {},
   "outputs": [
    {
     "name": "stderr",
     "output_type": "stream",
     "text": [
      "c:\\users\\ww\\appdata\\local\\programs\\python\\python35\\lib\\site-packages\\ipykernel_launcher.py:8: UserWarning: Update your `Dense` call to the Keras 2 API: `Dense(1024, activation=\"relu\", input_dim=784, kernel_initializer=\"uniform\")`\n",
      "  \n",
      "c:\\users\\ww\\appdata\\local\\programs\\python\\python35\\lib\\site-packages\\ipykernel_launcher.py:9: UserWarning: Update your `Dense` call to the Keras 2 API: `Dense(512, activation=\"relu\", kernel_initializer=\"uniform\")`\n",
      "  if __name__ == '__main__':\n",
      "c:\\users\\ww\\appdata\\local\\programs\\python\\python35\\lib\\site-packages\\ipykernel_launcher.py:10: UserWarning: Update your `Dense` call to the Keras 2 API: `Dense(256, activation=\"relu\", kernel_initializer=\"uniform\")`\n",
      "  # Remove the CWD from sys.path while we load stuff.\n",
      "c:\\users\\ww\\appdata\\local\\programs\\python\\python35\\lib\\site-packages\\ipykernel_launcher.py:11: UserWarning: Update your `Dense` call to the Keras 2 API: `Dense(128, activation=\"relu\", kernel_initializer=\"uniform\")`\n",
      "  # This is added back by InteractiveShellApp.init_path()\n",
      "c:\\users\\ww\\appdata\\local\\programs\\python\\python35\\lib\\site-packages\\ipykernel_launcher.py:12: UserWarning: Update your `Dense` call to the Keras 2 API: `Dense(64, activation=\"relu\", kernel_initializer=\"uniform\")`\n",
      "  if sys.path[0] == '':\n",
      "c:\\users\\ww\\appdata\\local\\programs\\python\\python35\\lib\\site-packages\\ipykernel_launcher.py:13: UserWarning: Update your `Dense` call to the Keras 2 API: `Dense(10, activation=\"sigmoid\", kernel_initializer=\"uniform\")`\n",
      "  del sys.path[0]\n"
     ]
    },
    {
     "name": "stdout",
     "output_type": "stream",
     "text": [
      "Epoch 1/30\n",
      " - 41s - loss: 0.4736 - acc: 0.8562\n",
      "Epoch 2/30\n",
      " - 28s - loss: 0.1047 - acc: 0.9681\n",
      "Epoch 3/30\n",
      " - 27s - loss: 0.0643 - acc: 0.9798\n",
      "Epoch 4/30\n",
      " - 30s - loss: 0.0387 - acc: 0.9881\n",
      "Epoch 5/30\n",
      " - 27s - loss: 0.0271 - acc: 0.9915\n",
      "Epoch 6/30\n",
      " - 32s - loss: 0.0249 - acc: 0.9916\n",
      "Epoch 7/30\n",
      " - 28s - loss: 0.0160 - acc: 0.9952\n",
      "Epoch 8/30\n",
      " - 29s - loss: 0.0118 - acc: 0.9962\n",
      "Epoch 9/30\n",
      " - 26s - loss: 0.0150 - acc: 0.9953\n",
      "Epoch 10/30\n",
      " - 26s - loss: 0.0167 - acc: 0.9944\n",
      "Epoch 11/30\n",
      " - 29s - loss: 0.0126 - acc: 0.9957\n",
      "Epoch 12/30\n",
      " - 27s - loss: 0.0104 - acc: 0.9966\n",
      "Epoch 13/30\n",
      " - 26s - loss: 0.0109 - acc: 0.9963\n",
      "Epoch 14/30\n",
      " - 25s - loss: 0.0100 - acc: 0.9966\n",
      "Epoch 15/30\n",
      " - 25s - loss: 0.0120 - acc: 0.9965\n",
      "Epoch 16/30\n",
      " - 27s - loss: 0.0114 - acc: 0.9964\n",
      "Epoch 17/30\n",
      " - 27s - loss: 0.0073 - acc: 0.9977\n",
      "Epoch 18/30\n",
      " - 29s - loss: 0.0084 - acc: 0.9976\n",
      "Epoch 19/30\n",
      " - 25s - loss: 0.0047 - acc: 0.9985\n",
      "Epoch 20/30\n",
      " - 29s - loss: 0.0078 - acc: 0.9975\n",
      "Epoch 21/30\n",
      " - 28s - loss: 0.0052 - acc: 0.9983\n",
      "Epoch 22/30\n",
      " - 25s - loss: 0.0056 - acc: 0.9983\n",
      "Epoch 23/30\n",
      " - 29s - loss: 0.0081 - acc: 0.9976\n",
      "Epoch 24/30\n",
      " - 32s - loss: 0.0055 - acc: 0.9984\n",
      "Epoch 25/30\n",
      " - 28s - loss: 0.0054 - acc: 0.9982\n",
      "Epoch 26/30\n",
      " - 25s - loss: 0.0103 - acc: 0.9970\n",
      "Epoch 27/30\n",
      " - 25s - loss: 0.0071 - acc: 0.9977\n",
      "Epoch 28/30\n",
      " - 25s - loss: 0.0052 - acc: 0.9984\n",
      "Epoch 29/30\n",
      " - 28s - loss: 0.0054 - acc: 0.9985\n",
      "Epoch 30/30\n",
      " - 25s - loss: 0.0061 - acc: 0.9979\n"
     ]
    },
    {
     "data": {
      "text/plain": [
       "<keras.callbacks.History at 0x1155c89da0>"
      ]
     },
     "execution_count": 9,
     "metadata": {},
     "output_type": "execute_result"
    }
   ],
   "source": [
    "Y = to_categorical(trlabels)\n",
    "X = np.array(trimages)\n",
    "\n",
    "seed = 7\n",
    "np.random.seed(seed)\n",
    "\n",
    "model = Sequential()\n",
    "model.add(Dense(1024, input_dim=X.shape[1], init='uniform', activation='relu'))\n",
    "model.add(Dense(512, init='uniform', activation='relu'))\n",
    "model.add(Dense(256, init='uniform', activation='relu'))\n",
    "model.add(Dense(128, init='uniform', activation='relu'))\n",
    "model.add(Dense(64, init='uniform', activation='relu'))\n",
    "model.add(Dense(Y.shape[1], init='uniform', activation='sigmoid'))\n",
    "\n",
    "model.compile(loss='categorical_crossentropy', optimizer='adam', metrics=['accuracy'])\n",
    "model.fit(X, Y, epochs=30, batch_size=1000, verbose=2)"
   ]
  },
  {
   "cell_type": "code",
   "execution_count": 13,
   "metadata": {},
   "outputs": [
    {
     "name": "stdout",
     "output_type": "stream",
     "text": [
      "accuracy for training data\n",
      "0.999166666667\n",
      "accuracy for testing data\n",
      "0.983\n"
     ]
    }
   ],
   "source": [
    "print(\"accuracy for training data\")\n",
    "print(accuracy_score(model.predict_classes(X), np.array(trlabels)))\n",
    "\n",
    "X1 = np.array(teimages)\n",
    "print(\"accuracy for testing data\")\n",
    "print(accuracy_score(model.predict_classes(X1), np.array(telabels)))"
   ]
  },
  {
   "cell_type": "code",
   "execution_count": null,
   "metadata": {},
   "outputs": [],
   "source": []
  }
 ],
 "metadata": {
  "anaconda-cloud": {},
  "kernelspec": {
   "display_name": "Python 3",
   "language": "python",
   "name": "python3"
  },
  "language_info": {
   "codemirror_mode": {
    "name": "ipython",
    "version": 3
   },
   "file_extension": ".py",
   "mimetype": "text/x-python",
   "name": "python",
   "nbconvert_exporter": "python",
   "pygments_lexer": "ipython3",
   "version": "3.5.4"
  }
 },
 "nbformat": 4,
 "nbformat_minor": 2
}
